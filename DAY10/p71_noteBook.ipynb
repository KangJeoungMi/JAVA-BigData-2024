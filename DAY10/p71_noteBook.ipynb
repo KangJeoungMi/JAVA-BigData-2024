{
 "cells": [
  {
   "cell_type": "markdown",
   "metadata": {},
   "source": [
    "## 쥬피터 노트북 시작\n",
    "\n",
    "- 주피터 노트북 사용법 학습\n",
    "    1. VS Code > ctrl + shift + p(명령팔레트) >  Create : 새 jupyterNoteBook 선택\n",
    "    2. 반드시 최초저장\n",
    "    3. 마크다운 셀, 코드 셀 확인\n",
    "    4. 노트북을 새로 열면 __모두 실행__ 눌러서 전체 코드셀 다 실행할 것"
   ]
  },
  {
   "cell_type": "code",
   "execution_count": 1,
   "metadata": {},
   "outputs": [
    {
     "name": "stdout",
     "output_type": "stream",
     "text": [
      "hello jupyter\n"
     ]
    }
   ],
   "source": [
    "print('hello jupyter')"
   ]
  },
  {
   "cell_type": "markdown",
   "metadata": {},
   "source": [
    "###  주피터 노트북 단축키\n",
    "- 필수 단축키\n",
    "    - ctrl + Enter : (셀 내부) 마크다운 셀은 닫기, 코드 셀을 실행\n",
    "    - shift + Enter : (셀 내부) Cntrl + Enter 기능 + 현재와 같은 셀을 추가(단, 마지막 셀에서만 동작)\n",
    "    - a : (현재 셀 외부 위치) 앞쪽에 코드 셀 추가\n",
    "    - ctrl + / : ( 셀 내부 ) 주석 토글\n",
    "    - shift + L : (셀 밖에서) 라인넘버 토글\n",
    "- 옵션 단축키\n",
    "    - b : (현재 셀 외부 위치) 뒷쪽에 코드 셀 추가\n",
    "    - m : (셀 외부 위치 ) 코드 셀을 markdown셀로 변경\n",
    "    - y : (셀 외부 위치 ) 마크다운 셀을 코드셀로 변경\n"
   ]
  },
  {
   "cell_type": "markdown",
   "metadata": {},
   "source": [
    "# 디버깅"
   ]
  },
  {
   "cell_type": "code",
   "execution_count": null,
   "metadata": {},
   "outputs": [],
   "source": [
    "def add(x,y):\n",
    "    res = int(x) + int(y)\n",
    "    return res"
   ]
  },
  {
   "cell_type": "code",
   "execution_count": 9,
   "metadata": {},
   "outputs": [
    {
     "ename": "NameError",
     "evalue": "name 'add' is not defined",
     "output_type": "error",
     "traceback": [
      "\u001b[1;31m---------------------------------------------------------------------------\u001b[0m",
      "\u001b[1;31mNameError\u001b[0m                                 Traceback (most recent call last)",
      "Cell \u001b[1;32mIn[9], line 2\u001b[0m\n\u001b[0;32m      1\u001b[0m a,b \u001b[38;5;241m=\u001b[39m \u001b[38;5;28minput\u001b[39m (\u001b[38;5;124m'\u001b[39m\u001b[38;5;124m두 수를 입력(정수)\u001b[39m\u001b[38;5;124m'\u001b[39m)\u001b[38;5;241m.\u001b[39msplit(\u001b[38;5;124m'\u001b[39m\u001b[38;5;124m \u001b[39m\u001b[38;5;124m'\u001b[39m)\n\u001b[1;32m----> 2\u001b[0m result \u001b[38;5;241m=\u001b[39m \u001b[43madd\u001b[49m(a,b)\n\u001b[0;32m      3\u001b[0m \u001b[38;5;28mprint\u001b[39m(\u001b[38;5;124mf\u001b[39m\u001b[38;5;124m'\u001b[39m\u001b[38;5;124m두 수의 더하기 결과는\u001b[39m\u001b[38;5;132;01m{\u001b[39;00mresult\u001b[38;5;132;01m}\u001b[39;00m\u001b[38;5;124m 입니다\u001b[39m\u001b[38;5;124m'\u001b[39m)\n",
      "\u001b[1;31mNameError\u001b[0m: name 'add' is not defined"
     ]
    }
   ],
   "source": [
    "a,b = input ('두 수를 입력(정수)').split(' ')\n",
    "result = add(a,b)\n",
    "print(f'두 수의 더하기 결과는{result} 입니다')"
   ]
  }
 ],
 "metadata": {
  "kernelspec": {
   "display_name": "Python 3",
   "language": "python",
   "name": "python3"
  },
  "language_info": {
   "codemirror_mode": {
    "name": "ipython",
    "version": 3
   },
   "file_extension": ".py",
   "mimetype": "text/x-python",
   "name": "python",
   "nbconvert_exporter": "python",
   "pygments_lexer": "ipython3",
   "version": "3.12.2"
  }
 },
 "nbformat": 4,
 "nbformat_minor": 2
}
